{
 "cells": [
  {
   "cell_type": "code",
   "execution_count": 1,
   "id": "8460c53c-4636-4d6a-b9aa-ef6ce1439289",
   "metadata": {},
   "outputs": [],
   "source": [
    "from qdrant_client import QdrantClient\n",
    "from extractors.markdown import MarkdownLoader\n",
    "from ingest.qdrant_etl import QdrantFastEmbedETLService"
   ]
  },
  {
   "cell_type": "code",
   "execution_count": 2,
   "id": "3bf2e4fc-fcf0-425c-92a5-6cbdd4f7977b",
   "metadata": {},
   "outputs": [],
   "source": [
    "qdrant_host = \"localhost\"\n",
    "qdrant_port = 6333\n",
    "embedding_models_dir = \"C:\\\\Users\\\\Nilanjan\\\\Models\"\n",
    "embedding_threads = 16\n",
    "sparse_vec_model_name = \"Qdrant/bm25\"\n",
    "dense_vec_model_name = \"intfloat/multilingual-e5-large\"\n",
    "late_interaction_model_name = \"jinaai/jina-colbert-v2\""
   ]
  },
  {
   "cell_type": "code",
   "execution_count": 3,
   "id": "b25feb18-be4a-40e9-b37c-7803933616ea",
   "metadata": {},
   "outputs": [
    {
     "name": "stderr",
     "output_type": "stream",
     "text": [
      "C:\\Users\\Nilanjan\\Repos\\hybrid_search_rag\\ingest\\qdrant_etl.py:39: UserWarning: The model intfloat/multilingual-e5-large now uses mean pooling instead of CLS embedding. In order to preserve the previous behaviour, consider either pinning fastembed version to 0.5.1 or using `add_custom_model` functionality.\n",
      "  self.dense_embedding_model = TextEmbedding(\n"
     ]
    }
   ],
   "source": [
    "etl_service = QdrantFastEmbedETLService(qdrant_host=qdrant_host,\n",
    "                                        qdrant_port=qdrant_port,\n",
    "                                        embedding_models_dir=embedding_models_dir,\n",
    "                                        sparse_vec_model_name=sparse_vec_model_name,\n",
    "                                        dense_vec_model_name=dense_vec_model_name,\n",
    "                                        late_interaction_model_name=late_interaction_model_name,\n",
    "                                        embedding_threads=embedding_threads)"
   ]
  },
  {
   "cell_type": "markdown",
   "id": "c68a63f2-f589-4ced-ad06-1df011fda97b",
   "metadata": {},
   "source": [
    "### Create a Collection"
   ]
  },
  {
   "cell_type": "code",
   "execution_count": 4,
   "id": "bb30989e-dce2-4d76-a76e-be5f52ee5dcc",
   "metadata": {},
   "outputs": [
    {
     "name": "stdout",
     "output_type": "stream",
     "text": [
      "Collection 'hybrid_search' created.\n"
     ]
    }
   ],
   "source": [
    "dense_embedding_size = 1024\n",
    "late_interaction_embedding_size = 128\n",
    "collection_name= 'hybrid_search'\n",
    "\n",
    "etl_service.create_hybrid_search_collection(collection_name,\n",
    "                                            dense_embedding_size,\n",
    "                                            late_interaction_embedding_size)"
   ]
  },
  {
   "cell_type": "markdown",
   "id": "1d7146b7-f4fb-4e6f-8d71-d9e4ff089e46",
   "metadata": {},
   "source": [
    "### Load and chunk Documents"
   ]
  },
  {
   "cell_type": "code",
   "execution_count": 5,
   "id": "c9c821cf-c5a5-4e97-abd1-a6e9027161c4",
   "metadata": {},
   "outputs": [],
   "source": [
    "loader = MarkdownLoader()"
   ]
  },
  {
   "cell_type": "code",
   "execution_count": 7,
   "id": "4edf93b6-2de7-4856-9737-a34946a50188",
   "metadata": {},
   "outputs": [
    {
     "name": "stderr",
     "output_type": "stream",
     "text": [
      "  0%|                                                                                                                                        | 0/48 [00:00<?, ?it/s]libmagic is unavailable but assists in filetype detection. Please consider installing libmagic for better results.\n",
      "libmagic is unavailable but assists in filetype detection. Please consider installing libmagic for better results.\n",
      "libmagic is unavailable but assists in filetype detection. Please consider installing libmagic for better results.\n",
      "libmagic is unavailable but assists in filetype detection. Please consider installing libmagic for better results.\n",
      "libmagic is unavailable but assists in filetype detection. Please consider installing libmagic for better results.\n",
      "libmagic is unavailable but assists in filetype detection. Please consider installing libmagic for better results.\n",
      "libmagic is unavailable but assists in filetype detection. Please consider installing libmagic for better results.\n",
      "libmagic is unavailable but assists in filetype detection. Please consider installing libmagic for better results.\n",
      " 12%|████████████████                                                                                                                | 6/48 [00:00<00:00, 44.13it/s]libmagic is unavailable but assists in filetype detection. Please consider installing libmagic for better results.\n",
      "libmagic is unavailable but assists in filetype detection. Please consider installing libmagic for better results.\n",
      "libmagic is unavailable but assists in filetype detection. Please consider installing libmagic for better results.\n",
      "libmagic is unavailable but assists in filetype detection. Please consider installing libmagic for better results.\n",
      "libmagic is unavailable but assists in filetype detection. Please consider installing libmagic for better results.\n",
      " 23%|█████████████████████████████                                                                                                  | 11/48 [00:00<00:00, 46.14it/s]libmagic is unavailable but assists in filetype detection. Please consider installing libmagic for better results.\n",
      "libmagic is unavailable but assists in filetype detection. Please consider installing libmagic for better results.\n",
      "libmagic is unavailable but assists in filetype detection. Please consider installing libmagic for better results.\n",
      "libmagic is unavailable but assists in filetype detection. Please consider installing libmagic for better results.\n",
      "libmagic is unavailable but assists in filetype detection. Please consider installing libmagic for better results.\n",
      "libmagic is unavailable but assists in filetype detection. Please consider installing libmagic for better results.\n",
      " 38%|███████████████████████████████████████████████▋                                                                               | 18/48 [00:00<00:00, 52.85it/s]libmagic is unavailable but assists in filetype detection. Please consider installing libmagic for better results.\n",
      "libmagic is unavailable but assists in filetype detection. Please consider installing libmagic for better results.\n",
      "libmagic is unavailable but assists in filetype detection. Please consider installing libmagic for better results.\n",
      "libmagic is unavailable but assists in filetype detection. Please consider installing libmagic for better results.\n",
      "libmagic is unavailable but assists in filetype detection. Please consider installing libmagic for better results.\n",
      "libmagic is unavailable but assists in filetype detection. Please consider installing libmagic for better results.\n",
      "libmagic is unavailable but assists in filetype detection. Please consider installing libmagic for better results.\n",
      " 54%|████████████████████████████████████████████████████████████████████▊                                                          | 26/48 [00:00<00:00, 59.60it/s]libmagic is unavailable but assists in filetype detection. Please consider installing libmagic for better results.\n",
      "libmagic is unavailable but assists in filetype detection. Please consider installing libmagic for better results.\n",
      "libmagic is unavailable but assists in filetype detection. Please consider installing libmagic for better results.\n",
      "libmagic is unavailable but assists in filetype detection. Please consider installing libmagic for better results.\n",
      "libmagic is unavailable but assists in filetype detection. Please consider installing libmagic for better results.\n",
      "libmagic is unavailable but assists in filetype detection. Please consider installing libmagic for better results.\n",
      "libmagic is unavailable but assists in filetype detection. Please consider installing libmagic for better results.\n",
      " 69%|███████████████████████████████████████████████████████████████████████████████████████▎                                       | 33/48 [00:00<00:00, 60.42it/s]libmagic is unavailable but assists in filetype detection. Please consider installing libmagic for better results.\n",
      "libmagic is unavailable but assists in filetype detection. Please consider installing libmagic for better results.\n",
      " 71%|█████████████████████████████████████████████████████████████████████████████████████████▉                                     | 34/48 [00:00<00:00, 60.59it/s]libmagic is unavailable but assists in filetype detection. Please consider installing libmagic for better results.\n",
      "libmagic is unavailable but assists in filetype detection. Please consider installing libmagic for better results.\n",
      "libmagic is unavailable but assists in filetype detection. Please consider installing libmagic for better results.\n",
      "libmagic is unavailable but assists in filetype detection. Please consider installing libmagic for better results.\n",
      "libmagic is unavailable but assists in filetype detection. Please consider installing libmagic for better results.\n",
      "libmagic is unavailable but assists in filetype detection. Please consider installing libmagic for better results.\n",
      "libmagic is unavailable but assists in filetype detection. Please consider installing libmagic for better results.\n",
      "libmagic is unavailable but assists in filetype detection. Please consider installing libmagic for better results.\n",
      " 85%|████████████████████████████████████████████████████████████████████████████████████████████████████████████▍                  | 41/48 [00:00<00:00, 56.18it/s]libmagic is unavailable but assists in filetype detection. Please consider installing libmagic for better results.\n",
      " 90%|█████████████████████████████████████████████████████████████████████████████████████████████████████████████████▊             | 43/48 [00:00<00:00, 54.52it/s]libmagic is unavailable but assists in filetype detection. Please consider installing libmagic for better results.\n",
      "libmagic is unavailable but assists in filetype detection. Please consider installing libmagic for better results.\n",
      "libmagic is unavailable but assists in filetype detection. Please consider installing libmagic for better results.\n",
      "libmagic is unavailable but assists in filetype detection. Please consider installing libmagic for better results.\n",
      "100%|███████████████████████████████████████████████████████████████████████████████████████████████████████████████████████████████| 48/48 [00:00<00:00, 57.87it/s]\n"
     ]
    }
   ],
   "source": [
    "directory = \"C:\\\\Users\\\\Nilanjan\\\\Documents\\\\njkol-workspace\\\\2.Areas and Resources\\\\Lifestyle\"\n",
    "documents = loader.load_docs(directory)\n",
    "chunked_docs = loader.split_docs(documents)"
   ]
  },
  {
   "cell_type": "markdown",
   "id": "3c4a4d0e-db6f-44f9-b307-32ac1e93a816",
   "metadata": {},
   "source": [
    "### Generate embeddings & upload to Vector Store"
   ]
  },
  {
   "cell_type": "code",
   "execution_count": 8,
   "id": "b3e84f9d-9316-44bb-9711-b10cbab6f095",
   "metadata": {},
   "outputs": [
    {
     "name": "stdout",
     "output_type": "stream",
     "text": [
      "Embedding process completed in 137.78 seconds\n"
     ]
    }
   ],
   "source": [
    "## Create a Points with Multi-Vector Representation\n",
    "points  = etl_service.create_multivector_points_from_documents(chunked_docs)"
   ]
  },
  {
   "cell_type": "code",
   "execution_count": 9,
   "id": "a04d1f5e-fda6-4531-9f4e-bafbbac53fe4",
   "metadata": {},
   "outputs": [
    {
     "name": "stdout",
     "output_type": "stream",
     "text": [
      "Uploading points completed in 9.20 seconds\n"
     ]
    }
   ],
   "source": [
    "### Upload points in batch in a parallel manner\n",
    "collection_name= 'hybrid_search'\n",
    "max_threads = 8\n",
    "max_retries = 3\n",
    "\n",
    "etl_service.upload_points(collection_name, points, max_threads, max_retries)"
   ]
  }
 ],
 "metadata": {
  "kernelspec": {
   "display_name": "Python 3 (ipykernel)",
   "language": "python",
   "name": "python3"
  },
  "language_info": {
   "codemirror_mode": {
    "name": "ipython",
    "version": 3
   },
   "file_extension": ".py",
   "mimetype": "text/x-python",
   "name": "python",
   "nbconvert_exporter": "python",
   "pygments_lexer": "ipython3",
   "version": "3.11.11"
  }
 },
 "nbformat": 4,
 "nbformat_minor": 5
}
